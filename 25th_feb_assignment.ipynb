{
 "cells": [
  {
   "cell_type": "code",
   "execution_count": 83,
   "id": "17c4e399-cb2b-45f4-8d1e-37ce3134a07c",
   "metadata": {},
   "outputs": [],
   "source": [
    "import pandas as pd"
   ]
  },
  {
   "cell_type": "code",
   "execution_count": 84,
   "id": "e9653741-950e-4835-a1fd-bb86e7660343",
   "metadata": {},
   "outputs": [],
   "source": [
    "course_name = [\"Data Science\" , \"Machine Learning\" , \"Big Data\" ,\"Data Engine\" ]\n",
    "\n",
    "duration = [\"2\",'3' , '6' ,'4']\n",
    "\n",
    "df = pd.DataFrame(data = {'coure_name' : course_name , 'duration' : duration})"
   ]
  },
  {
   "cell_type": "code",
   "execution_count": 85,
   "id": "0854444a-1df7-49f4-90e1-23a3fbe22e22",
   "metadata": {},
   "outputs": [
    {
     "data": {
      "text/html": [
       "<div>\n",
       "<style scoped>\n",
       "    .dataframe tbody tr th:only-of-type {\n",
       "        vertical-align: middle;\n",
       "    }\n",
       "\n",
       "    .dataframe tbody tr th {\n",
       "        vertical-align: top;\n",
       "    }\n",
       "\n",
       "    .dataframe thead th {\n",
       "        text-align: right;\n",
       "    }\n",
       "</style>\n",
       "<table border=\"1\" class=\"dataframe\">\n",
       "  <thead>\n",
       "    <tr style=\"text-align: right;\">\n",
       "      <th></th>\n",
       "      <th>coure_name</th>\n",
       "      <th>duration</th>\n",
       "    </tr>\n",
       "  </thead>\n",
       "  <tbody>\n",
       "    <tr>\n",
       "      <th>0</th>\n",
       "      <td>Data Science</td>\n",
       "      <td>2</td>\n",
       "    </tr>\n",
       "    <tr>\n",
       "      <th>1</th>\n",
       "      <td>Machine Learning</td>\n",
       "      <td>3</td>\n",
       "    </tr>\n",
       "    <tr>\n",
       "      <th>2</th>\n",
       "      <td>Big Data</td>\n",
       "      <td>6</td>\n",
       "    </tr>\n",
       "    <tr>\n",
       "      <th>3</th>\n",
       "      <td>Data Engine</td>\n",
       "      <td>4</td>\n",
       "    </tr>\n",
       "  </tbody>\n",
       "</table>\n",
       "</div>"
      ],
      "text/plain": [
       "         coure_name duration\n",
       "0      Data Science        2\n",
       "1  Machine Learning        3\n",
       "2          Big Data        6\n",
       "3       Data Engine        4"
      ]
     },
     "execution_count": 85,
     "metadata": {},
     "output_type": "execute_result"
    }
   ],
   "source": [
    "df"
   ]
  },
  {
   "cell_type": "code",
   "execution_count": 86,
   "id": "cff59572-82c8-4532-a774-84997062632f",
   "metadata": {},
   "outputs": [],
   "source": [
    "#Q1. Write a code to print the data present in the second row of the dataframe, df."
   ]
  },
  {
   "cell_type": "code",
   "execution_count": 87,
   "id": "d91b4957-e6ff-46c0-89c6-19a256c9d92a",
   "metadata": {},
   "outputs": [
    {
     "name": "stdout",
     "output_type": "stream",
     "text": [
      "coure_name    Machine Learning\n",
      "duration                     3\n",
      "Name: 1, dtype: object\n"
     ]
    }
   ],
   "source": [
    "print(df.iloc[1])"
   ]
  },
  {
   "cell_type": "code",
   "execution_count": null,
   "id": "46f7c061-d40a-48e4-bf8d-3d6f52797094",
   "metadata": {},
   "outputs": [],
   "source": []
  },
  {
   "cell_type": "code",
   "execution_count": 88,
   "id": "1d526c76-4546-4c0e-a5ee-11578a53479a",
   "metadata": {},
   "outputs": [],
   "source": [
    "#Q2. What is the difference between the functions loc and iloc in pandas.DataFrame?"
   ]
  },
  {
   "cell_type": "code",
   "execution_count": 89,
   "id": "a9271a8e-ded3-4eca-b003-b045a6678435",
   "metadata": {},
   "outputs": [],
   "source": [
    "loc = \"Used for select data from dataframe loc is for name nd indice\""
   ]
  },
  {
   "cell_type": "code",
   "execution_count": 90,
   "id": "6f137947-e029-4aa1-8945-f82f3ca02b56",
   "metadata": {},
   "outputs": [],
   "source": [
    "iloc = \"Used for select data from dataframe iloc is for intieger\""
   ]
  },
  {
   "cell_type": "code",
   "execution_count": null,
   "id": "16f04db2-7135-4546-b0e9-e51f9a9e22a5",
   "metadata": {},
   "outputs": [],
   "source": []
  },
  {
   "cell_type": "code",
   "execution_count": 91,
   "id": "70738e3a-5b8b-4d63-b67e-97a3981e56cc",
   "metadata": {},
   "outputs": [],
   "source": [
    "#Q3. Reindex the given dataframe using a variable, reindex = [3,0,1,2] and store it in the variable, new_df\n",
    "#then find the output for both new_df.loc[2] and new_df.iloc[2]."
   ]
  },
  {
   "cell_type": "code",
   "execution_count": 92,
   "id": "26178ea7-f8bb-4f55-8caf-25bf08f4d2b5",
   "metadata": {},
   "outputs": [],
   "source": [
    "reindex = [3,0,1,2]"
   ]
  },
  {
   "cell_type": "code",
   "execution_count": 93,
   "id": "bf943093-8e94-438b-83d2-4927afdc3f0d",
   "metadata": {},
   "outputs": [
    {
     "data": {
      "text/html": [
       "<div>\n",
       "<style scoped>\n",
       "    .dataframe tbody tr th:only-of-type {\n",
       "        vertical-align: middle;\n",
       "    }\n",
       "\n",
       "    .dataframe tbody tr th {\n",
       "        vertical-align: top;\n",
       "    }\n",
       "\n",
       "    .dataframe thead th {\n",
       "        text-align: right;\n",
       "    }\n",
       "</style>\n",
       "<table border=\"1\" class=\"dataframe\">\n",
       "  <thead>\n",
       "    <tr style=\"text-align: right;\">\n",
       "      <th></th>\n",
       "      <th>coure_name</th>\n",
       "      <th>duration</th>\n",
       "    </tr>\n",
       "  </thead>\n",
       "  <tbody>\n",
       "    <tr>\n",
       "      <th>0</th>\n",
       "      <td>Data Science</td>\n",
       "      <td>2</td>\n",
       "    </tr>\n",
       "    <tr>\n",
       "      <th>1</th>\n",
       "      <td>Machine Learning</td>\n",
       "      <td>3</td>\n",
       "    </tr>\n",
       "    <tr>\n",
       "      <th>2</th>\n",
       "      <td>Big Data</td>\n",
       "      <td>6</td>\n",
       "    </tr>\n",
       "    <tr>\n",
       "      <th>3</th>\n",
       "      <td>Data Engine</td>\n",
       "      <td>4</td>\n",
       "    </tr>\n",
       "  </tbody>\n",
       "</table>\n",
       "</div>"
      ],
      "text/plain": [
       "         coure_name duration\n",
       "0      Data Science        2\n",
       "1  Machine Learning        3\n",
       "2          Big Data        6\n",
       "3       Data Engine        4"
      ]
     },
     "execution_count": 93,
     "metadata": {},
     "output_type": "execute_result"
    }
   ],
   "source": [
    "df"
   ]
  },
  {
   "cell_type": "code",
   "execution_count": 94,
   "id": "a74cfb73-8288-4afb-bdd3-c020a162bd02",
   "metadata": {},
   "outputs": [],
   "source": [
    "new_df = df.reindex(reindex)"
   ]
  },
  {
   "cell_type": "code",
   "execution_count": 95,
   "id": "4605afd7-35d7-43f1-8fd0-3f39a37679cf",
   "metadata": {},
   "outputs": [
    {
     "data": {
      "text/plain": [
       "coure_name    Big Data\n",
       "duration             6\n",
       "Name: 2, dtype: object"
      ]
     },
     "execution_count": 95,
     "metadata": {},
     "output_type": "execute_result"
    }
   ],
   "source": [
    "new_df.loc[2]"
   ]
  },
  {
   "cell_type": "code",
   "execution_count": 98,
   "id": "38524baf-6052-43c3-a166-dc3861d556d3",
   "metadata": {},
   "outputs": [
    {
     "data": {
      "text/plain": [
       "coure_name    Big Data\n",
       "duration             6\n",
       "Name: 2, dtype: object"
      ]
     },
     "execution_count": 98,
     "metadata": {},
     "output_type": "execute_result"
    }
   ],
   "source": [
    "new_df.iloc[3]"
   ]
  },
  {
   "cell_type": "code",
   "execution_count": null,
   "id": "f66f7e24-eaa2-4759-81d5-8fd674607c1f",
   "metadata": {},
   "outputs": [],
   "source": []
  },
  {
   "cell_type": "code",
   "execution_count": null,
   "id": "12d358a8-c7f2-437c-a6b5-8564e0e9f2fe",
   "metadata": {},
   "outputs": [],
   "source": []
  },
  {
   "cell_type": "code",
   "execution_count": 67,
   "id": "661f5077-d055-4b00-8e00-00780e3389fc",
   "metadata": {},
   "outputs": [],
   "source": [
    "import pandas as pd\n",
    "import numpy as np\n",
    "columns = ['column_1', 'column_2', 'column_3', 'column_4', 'column_5', 'column_6']\n",
    "indices = [1,2,3,4,5,6]\n",
    "#Creating a dataframe:\n",
    "df1 = pd.DataFrame(np.random.rand(6,6), columns = columns, index = indices)"
   ]
  },
  {
   "cell_type": "code",
   "execution_count": 68,
   "id": "5c2beaa0-3e91-4cfa-9b5a-f66c65d1c8a1",
   "metadata": {},
   "outputs": [
    {
     "data": {
      "text/html": [
       "<div>\n",
       "<style scoped>\n",
       "    .dataframe tbody tr th:only-of-type {\n",
       "        vertical-align: middle;\n",
       "    }\n",
       "\n",
       "    .dataframe tbody tr th {\n",
       "        vertical-align: top;\n",
       "    }\n",
       "\n",
       "    .dataframe thead th {\n",
       "        text-align: right;\n",
       "    }\n",
       "</style>\n",
       "<table border=\"1\" class=\"dataframe\">\n",
       "  <thead>\n",
       "    <tr style=\"text-align: right;\">\n",
       "      <th></th>\n",
       "      <th>column_1</th>\n",
       "      <th>column_2</th>\n",
       "      <th>column_3</th>\n",
       "      <th>column_4</th>\n",
       "      <th>column_5</th>\n",
       "      <th>column_6</th>\n",
       "    </tr>\n",
       "  </thead>\n",
       "  <tbody>\n",
       "    <tr>\n",
       "      <th>1</th>\n",
       "      <td>0.397678</td>\n",
       "      <td>0.888771</td>\n",
       "      <td>0.277079</td>\n",
       "      <td>0.795914</td>\n",
       "      <td>0.042843</td>\n",
       "      <td>0.444357</td>\n",
       "    </tr>\n",
       "    <tr>\n",
       "      <th>2</th>\n",
       "      <td>0.414405</td>\n",
       "      <td>0.014282</td>\n",
       "      <td>0.634949</td>\n",
       "      <td>0.943768</td>\n",
       "      <td>0.876629</td>\n",
       "      <td>0.116937</td>\n",
       "    </tr>\n",
       "    <tr>\n",
       "      <th>3</th>\n",
       "      <td>0.645092</td>\n",
       "      <td>0.971441</td>\n",
       "      <td>0.278603</td>\n",
       "      <td>0.454272</td>\n",
       "      <td>0.577290</td>\n",
       "      <td>0.938924</td>\n",
       "    </tr>\n",
       "    <tr>\n",
       "      <th>4</th>\n",
       "      <td>0.428659</td>\n",
       "      <td>0.259588</td>\n",
       "      <td>0.081024</td>\n",
       "      <td>0.160527</td>\n",
       "      <td>0.673207</td>\n",
       "      <td>0.504983</td>\n",
       "    </tr>\n",
       "    <tr>\n",
       "      <th>5</th>\n",
       "      <td>0.295186</td>\n",
       "      <td>0.132488</td>\n",
       "      <td>0.737448</td>\n",
       "      <td>0.348126</td>\n",
       "      <td>0.313318</td>\n",
       "      <td>0.192981</td>\n",
       "    </tr>\n",
       "    <tr>\n",
       "      <th>6</th>\n",
       "      <td>0.062892</td>\n",
       "      <td>0.281901</td>\n",
       "      <td>0.957961</td>\n",
       "      <td>0.556229</td>\n",
       "      <td>0.305552</td>\n",
       "      <td>0.072281</td>\n",
       "    </tr>\n",
       "  </tbody>\n",
       "</table>\n",
       "</div>"
      ],
      "text/plain": [
       "   column_1  column_2  column_3  column_4  column_5  column_6\n",
       "1  0.397678  0.888771  0.277079  0.795914  0.042843  0.444357\n",
       "2  0.414405  0.014282  0.634949  0.943768  0.876629  0.116937\n",
       "3  0.645092  0.971441  0.278603  0.454272  0.577290  0.938924\n",
       "4  0.428659  0.259588  0.081024  0.160527  0.673207  0.504983\n",
       "5  0.295186  0.132488  0.737448  0.348126  0.313318  0.192981\n",
       "6  0.062892  0.281901  0.957961  0.556229  0.305552  0.072281"
      ]
     },
     "execution_count": 68,
     "metadata": {},
     "output_type": "execute_result"
    }
   ],
   "source": [
    "df1"
   ]
  },
  {
   "cell_type": "code",
   "execution_count": 69,
   "id": "ff377081-c0e8-4ad1-bd9f-5d76be508157",
   "metadata": {},
   "outputs": [
    {
     "data": {
      "text/html": [
       "<div>\n",
       "<style scoped>\n",
       "    .dataframe tbody tr th:only-of-type {\n",
       "        vertical-align: middle;\n",
       "    }\n",
       "\n",
       "    .dataframe tbody tr th {\n",
       "        vertical-align: top;\n",
       "    }\n",
       "\n",
       "    .dataframe thead th {\n",
       "        text-align: right;\n",
       "    }\n",
       "</style>\n",
       "<table border=\"1\" class=\"dataframe\">\n",
       "  <thead>\n",
       "    <tr style=\"text-align: right;\">\n",
       "      <th></th>\n",
       "      <th>column_1</th>\n",
       "      <th>column_2</th>\n",
       "      <th>column_3</th>\n",
       "      <th>column_4</th>\n",
       "      <th>column_5</th>\n",
       "      <th>column_6</th>\n",
       "    </tr>\n",
       "  </thead>\n",
       "  <tbody>\n",
       "    <tr>\n",
       "      <th>count</th>\n",
       "      <td>6.000000</td>\n",
       "      <td>6.000000</td>\n",
       "      <td>6.000000</td>\n",
       "      <td>6.000000</td>\n",
       "      <td>6.000000</td>\n",
       "      <td>6.000000</td>\n",
       "    </tr>\n",
       "    <tr>\n",
       "      <th>mean</th>\n",
       "      <td>0.373985</td>\n",
       "      <td>0.424745</td>\n",
       "      <td>0.494511</td>\n",
       "      <td>0.543139</td>\n",
       "      <td>0.464807</td>\n",
       "      <td>0.378411</td>\n",
       "    </tr>\n",
       "    <tr>\n",
       "      <th>std</th>\n",
       "      <td>0.190616</td>\n",
       "      <td>0.403924</td>\n",
       "      <td>0.334183</td>\n",
       "      <td>0.288752</td>\n",
       "      <td>0.300681</td>\n",
       "      <td>0.325887</td>\n",
       "    </tr>\n",
       "    <tr>\n",
       "      <th>min</th>\n",
       "      <td>0.062892</td>\n",
       "      <td>0.014282</td>\n",
       "      <td>0.081024</td>\n",
       "      <td>0.160527</td>\n",
       "      <td>0.042843</td>\n",
       "      <td>0.072281</td>\n",
       "    </tr>\n",
       "    <tr>\n",
       "      <th>25%</th>\n",
       "      <td>0.320809</td>\n",
       "      <td>0.164263</td>\n",
       "      <td>0.277460</td>\n",
       "      <td>0.374662</td>\n",
       "      <td>0.307493</td>\n",
       "      <td>0.135948</td>\n",
       "    </tr>\n",
       "    <tr>\n",
       "      <th>50%</th>\n",
       "      <td>0.406042</td>\n",
       "      <td>0.270744</td>\n",
       "      <td>0.456776</td>\n",
       "      <td>0.505251</td>\n",
       "      <td>0.445304</td>\n",
       "      <td>0.318669</td>\n",
       "    </tr>\n",
       "    <tr>\n",
       "      <th>75%</th>\n",
       "      <td>0.425096</td>\n",
       "      <td>0.737053</td>\n",
       "      <td>0.711823</td>\n",
       "      <td>0.735993</td>\n",
       "      <td>0.649228</td>\n",
       "      <td>0.489827</td>\n",
       "    </tr>\n",
       "    <tr>\n",
       "      <th>max</th>\n",
       "      <td>0.645092</td>\n",
       "      <td>0.971441</td>\n",
       "      <td>0.957961</td>\n",
       "      <td>0.943768</td>\n",
       "      <td>0.876629</td>\n",
       "      <td>0.938924</td>\n",
       "    </tr>\n",
       "  </tbody>\n",
       "</table>\n",
       "</div>"
      ],
      "text/plain": [
       "       column_1  column_2  column_3  column_4  column_5  column_6\n",
       "count  6.000000  6.000000  6.000000  6.000000  6.000000  6.000000\n",
       "mean   0.373985  0.424745  0.494511  0.543139  0.464807  0.378411\n",
       "std    0.190616  0.403924  0.334183  0.288752  0.300681  0.325887\n",
       "min    0.062892  0.014282  0.081024  0.160527  0.042843  0.072281\n",
       "25%    0.320809  0.164263  0.277460  0.374662  0.307493  0.135948\n",
       "50%    0.406042  0.270744  0.456776  0.505251  0.445304  0.318669\n",
       "75%    0.425096  0.737053  0.711823  0.735993  0.649228  0.489827\n",
       "max    0.645092  0.971441  0.957961  0.943768  0.876629  0.938924"
      ]
     },
     "execution_count": 69,
     "metadata": {},
     "output_type": "execute_result"
    }
   ],
   "source": [
    "df1.describe()"
   ]
  },
  {
   "cell_type": "code",
   "execution_count": 70,
   "id": "72cb55af-1cff-46fb-a8b2-ea5afc37b392",
   "metadata": {},
   "outputs": [],
   "source": [
    "#Q4. Write a code to find the following statistical measurements for the above dataframe df1:\n",
    "#(i) mean of each and every column present in the dataframe.\n",
    "#(ii) standard deviation of column, ‘column_2’"
   ]
  },
  {
   "cell_type": "code",
   "execution_count": null,
   "id": "c19f4d58-f6c1-4c20-ab29-1cbbdb45e18a",
   "metadata": {},
   "outputs": [],
   "source": []
  },
  {
   "cell_type": "code",
   "execution_count": 71,
   "id": "2a5d6020-9dd6-4f41-9031-a5f12b3afdcf",
   "metadata": {},
   "outputs": [
    {
     "data": {
      "text/plain": [
       "column_1    0.373985\n",
       "column_2    0.424745\n",
       "column_3    0.494511\n",
       "column_4    0.543139\n",
       "column_5    0.464807\n",
       "column_6    0.378411\n",
       "dtype: float64"
      ]
     },
     "execution_count": 71,
     "metadata": {},
     "output_type": "execute_result"
    }
   ],
   "source": [
    "df1.mean()"
   ]
  },
  {
   "cell_type": "code",
   "execution_count": 72,
   "id": "45e24c76-de4d-427e-a7d1-58da475b3323",
   "metadata": {},
   "outputs": [
    {
     "data": {
      "text/plain": [
       "0.4039237417138974"
      ]
     },
     "execution_count": 72,
     "metadata": {},
     "output_type": "execute_result"
    }
   ],
   "source": [
    "df1['column_2'].std()"
   ]
  },
  {
   "cell_type": "code",
   "execution_count": null,
   "id": "0f3cd041-15cc-41d8-9fc1-f9c0a6afe570",
   "metadata": {},
   "outputs": [],
   "source": []
  },
  {
   "cell_type": "code",
   "execution_count": 73,
   "id": "e3dcc3fd-3d0b-4551-97c3-845ee0bb88e0",
   "metadata": {},
   "outputs": [],
   "source": [
    "#Q5. Replace the data present in the second row of column, ‘column_2’ by a string variable then find the\n",
    "#mean of column, column_2.\n",
    "#If you are getting errors in executing it then explain why.\n",
    "#[Hint: To replace the data use df1.loc[] and equate this to string data of your choice.]"
   ]
  },
  {
   "cell_type": "code",
   "execution_count": 74,
   "id": "e793844e-de62-4896-9b0c-5992eb6a0373",
   "metadata": {},
   "outputs": [
    {
     "data": {
      "text/html": [
       "<div>\n",
       "<style scoped>\n",
       "    .dataframe tbody tr th:only-of-type {\n",
       "        vertical-align: middle;\n",
       "    }\n",
       "\n",
       "    .dataframe tbody tr th {\n",
       "        vertical-align: top;\n",
       "    }\n",
       "\n",
       "    .dataframe thead th {\n",
       "        text-align: right;\n",
       "    }\n",
       "</style>\n",
       "<table border=\"1\" class=\"dataframe\">\n",
       "  <thead>\n",
       "    <tr style=\"text-align: right;\">\n",
       "      <th></th>\n",
       "      <th>column_1</th>\n",
       "      <th>column_2</th>\n",
       "      <th>column_3</th>\n",
       "      <th>column_4</th>\n",
       "      <th>column_5</th>\n",
       "      <th>column_6</th>\n",
       "    </tr>\n",
       "  </thead>\n",
       "  <tbody>\n",
       "    <tr>\n",
       "      <th>1</th>\n",
       "      <td>0.397678</td>\n",
       "      <td>0.888771</td>\n",
       "      <td>0.277079</td>\n",
       "      <td>0.795914</td>\n",
       "      <td>0.042843</td>\n",
       "      <td>0.444357</td>\n",
       "    </tr>\n",
       "    <tr>\n",
       "      <th>2</th>\n",
       "      <td>0.414405</td>\n",
       "      <td>0.014282</td>\n",
       "      <td>0.634949</td>\n",
       "      <td>0.943768</td>\n",
       "      <td>0.876629</td>\n",
       "      <td>0.116937</td>\n",
       "    </tr>\n",
       "    <tr>\n",
       "      <th>3</th>\n",
       "      <td>0.645092</td>\n",
       "      <td>0.971441</td>\n",
       "      <td>0.278603</td>\n",
       "      <td>0.454272</td>\n",
       "      <td>0.577290</td>\n",
       "      <td>0.938924</td>\n",
       "    </tr>\n",
       "    <tr>\n",
       "      <th>4</th>\n",
       "      <td>0.428659</td>\n",
       "      <td>0.259588</td>\n",
       "      <td>0.081024</td>\n",
       "      <td>0.160527</td>\n",
       "      <td>0.673207</td>\n",
       "      <td>0.504983</td>\n",
       "    </tr>\n",
       "    <tr>\n",
       "      <th>5</th>\n",
       "      <td>0.295186</td>\n",
       "      <td>0.132488</td>\n",
       "      <td>0.737448</td>\n",
       "      <td>0.348126</td>\n",
       "      <td>0.313318</td>\n",
       "      <td>0.192981</td>\n",
       "    </tr>\n",
       "    <tr>\n",
       "      <th>6</th>\n",
       "      <td>0.062892</td>\n",
       "      <td>0.281901</td>\n",
       "      <td>0.957961</td>\n",
       "      <td>0.556229</td>\n",
       "      <td>0.305552</td>\n",
       "      <td>0.072281</td>\n",
       "    </tr>\n",
       "  </tbody>\n",
       "</table>\n",
       "</div>"
      ],
      "text/plain": [
       "   column_1  column_2  column_3  column_4  column_5  column_6\n",
       "1  0.397678  0.888771  0.277079  0.795914  0.042843  0.444357\n",
       "2  0.414405  0.014282  0.634949  0.943768  0.876629  0.116937\n",
       "3  0.645092  0.971441  0.278603  0.454272  0.577290  0.938924\n",
       "4  0.428659  0.259588  0.081024  0.160527  0.673207  0.504983\n",
       "5  0.295186  0.132488  0.737448  0.348126  0.313318  0.192981\n",
       "6  0.062892  0.281901  0.957961  0.556229  0.305552  0.072281"
      ]
     },
     "execution_count": 74,
     "metadata": {},
     "output_type": "execute_result"
    }
   ],
   "source": [
    "df1"
   ]
  },
  {
   "cell_type": "code",
   "execution_count": 75,
   "id": "acdbcb18-f72e-49e8-8bab-8b9ef20d9850",
   "metadata": {},
   "outputs": [],
   "source": [
    "df1.loc[2,\"column_2\"] = \"Ronk\""
   ]
  },
  {
   "cell_type": "code",
   "execution_count": 76,
   "id": "07b9f678-9cef-4271-b8e8-c7c77750ca24",
   "metadata": {},
   "outputs": [
    {
     "data": {
      "text/html": [
       "<div>\n",
       "<style scoped>\n",
       "    .dataframe tbody tr th:only-of-type {\n",
       "        vertical-align: middle;\n",
       "    }\n",
       "\n",
       "    .dataframe tbody tr th {\n",
       "        vertical-align: top;\n",
       "    }\n",
       "\n",
       "    .dataframe thead th {\n",
       "        text-align: right;\n",
       "    }\n",
       "</style>\n",
       "<table border=\"1\" class=\"dataframe\">\n",
       "  <thead>\n",
       "    <tr style=\"text-align: right;\">\n",
       "      <th></th>\n",
       "      <th>column_1</th>\n",
       "      <th>column_2</th>\n",
       "      <th>column_3</th>\n",
       "      <th>column_4</th>\n",
       "      <th>column_5</th>\n",
       "      <th>column_6</th>\n",
       "    </tr>\n",
       "  </thead>\n",
       "  <tbody>\n",
       "    <tr>\n",
       "      <th>1</th>\n",
       "      <td>0.397678</td>\n",
       "      <td>0.888771</td>\n",
       "      <td>0.277079</td>\n",
       "      <td>0.795914</td>\n",
       "      <td>0.042843</td>\n",
       "      <td>0.444357</td>\n",
       "    </tr>\n",
       "    <tr>\n",
       "      <th>2</th>\n",
       "      <td>0.414405</td>\n",
       "      <td>Ronk</td>\n",
       "      <td>0.634949</td>\n",
       "      <td>0.943768</td>\n",
       "      <td>0.876629</td>\n",
       "      <td>0.116937</td>\n",
       "    </tr>\n",
       "    <tr>\n",
       "      <th>3</th>\n",
       "      <td>0.645092</td>\n",
       "      <td>0.971441</td>\n",
       "      <td>0.278603</td>\n",
       "      <td>0.454272</td>\n",
       "      <td>0.577290</td>\n",
       "      <td>0.938924</td>\n",
       "    </tr>\n",
       "    <tr>\n",
       "      <th>4</th>\n",
       "      <td>0.428659</td>\n",
       "      <td>0.259588</td>\n",
       "      <td>0.081024</td>\n",
       "      <td>0.160527</td>\n",
       "      <td>0.673207</td>\n",
       "      <td>0.504983</td>\n",
       "    </tr>\n",
       "    <tr>\n",
       "      <th>5</th>\n",
       "      <td>0.295186</td>\n",
       "      <td>0.132488</td>\n",
       "      <td>0.737448</td>\n",
       "      <td>0.348126</td>\n",
       "      <td>0.313318</td>\n",
       "      <td>0.192981</td>\n",
       "    </tr>\n",
       "    <tr>\n",
       "      <th>6</th>\n",
       "      <td>0.062892</td>\n",
       "      <td>0.281901</td>\n",
       "      <td>0.957961</td>\n",
       "      <td>0.556229</td>\n",
       "      <td>0.305552</td>\n",
       "      <td>0.072281</td>\n",
       "    </tr>\n",
       "  </tbody>\n",
       "</table>\n",
       "</div>"
      ],
      "text/plain": [
       "   column_1  column_2  column_3  column_4  column_5  column_6\n",
       "1  0.397678  0.888771  0.277079  0.795914  0.042843  0.444357\n",
       "2  0.414405      Ronk  0.634949  0.943768  0.876629  0.116937\n",
       "3  0.645092  0.971441  0.278603  0.454272  0.577290  0.938924\n",
       "4  0.428659  0.259588  0.081024  0.160527  0.673207  0.504983\n",
       "5  0.295186  0.132488  0.737448  0.348126  0.313318  0.192981\n",
       "6  0.062892  0.281901  0.957961  0.556229  0.305552  0.072281"
      ]
     },
     "execution_count": 76,
     "metadata": {},
     "output_type": "execute_result"
    }
   ],
   "source": [
    "df1"
   ]
  },
  {
   "cell_type": "code",
   "execution_count": null,
   "id": "c70e2f51-d7e5-4493-9d0c-973d7f4bf3e4",
   "metadata": {},
   "outputs": [],
   "source": [
    "#df1[\"column_2\"].mean() \n",
    "\n",
    "It will show the error bcz mean function can not concanite with sting we have already replay the num to string value\n",
    "thats why it is not accepatable"
   ]
  },
  {
   "cell_type": "code",
   "execution_count": null,
   "id": "e8a365f8-bc13-497c-b315-93e521772c4e",
   "metadata": {},
   "outputs": [],
   "source": []
  },
  {
   "cell_type": "code",
   "execution_count": null,
   "id": "e83e5ea0-38e4-4ad3-9d52-73e387bd5167",
   "metadata": {},
   "outputs": [],
   "source": [
    "#Q6. What do you understand about the windows function in pandas and list the types of windows\n",
    "#functions?"
   ]
  },
  {
   "cell_type": "code",
   "execution_count": 34,
   "id": "9f02c3bf-172d-4edb-a77f-389cee129b09",
   "metadata": {},
   "outputs": [],
   "source": [
    "Rolling function is work with previous value if we set window size 3 then it take previous 3 value including perturical \n",
    "row and make average of it"
   ]
  },
  {
   "cell_type": "code",
   "execution_count": null,
   "id": "bdef82be-b3b7-469c-a2bd-fcd373aee43c",
   "metadata": {},
   "outputs": [],
   "source": []
  },
  {
   "cell_type": "code",
   "execution_count": 100,
   "id": "21136e3e-b7a6-4450-bc76-616191068065",
   "metadata": {},
   "outputs": [],
   "source": [
    "#Q7. Write a code to print only the current month and year at the time of answering this question.\n",
    "#[Hint: Use pandas.datetime function]"
   ]
  },
  {
   "cell_type": "code",
   "execution_count": null,
   "id": "9e1defe9-dd98-4ef9-880f-92b246fd7c60",
   "metadata": {},
   "outputs": [],
   "source": []
  },
  {
   "cell_type": "code",
   "execution_count": 103,
   "id": "4ceefee3-8705-4e8c-b79a-48aa658f1826",
   "metadata": {},
   "outputs": [],
   "source": [
    "import pandas as pd\n",
    "from datetime import datetime"
   ]
  },
  {
   "cell_type": "code",
   "execution_count": null,
   "id": "c4613675-a666-4ee5-835b-7aa51c3b3615",
   "metadata": {},
   "outputs": [],
   "source": []
  },
  {
   "cell_type": "code",
   "execution_count": 104,
   "id": "54e5d455-3878-4019-b92a-03cdbf8afc7c",
   "metadata": {},
   "outputs": [],
   "source": [
    "currentDate_time = datetime.now()"
   ]
  },
  {
   "cell_type": "code",
   "execution_count": 105,
   "id": "69c2b214-c7c2-4205-8a2f-21e91ce58353",
   "metadata": {},
   "outputs": [
    {
     "data": {
      "text/plain": [
       "datetime.datetime(2023, 10, 11, 10, 31, 7, 977504)"
      ]
     },
     "execution_count": 105,
     "metadata": {},
     "output_type": "execute_result"
    }
   ],
   "source": [
    "currentDate_time"
   ]
  },
  {
   "cell_type": "code",
   "execution_count": 109,
   "id": "c884fd56-8942-4500-89f8-a7009ea64a4f",
   "metadata": {},
   "outputs": [],
   "source": [
    "time = pd.to_datetime(currentDate_time)"
   ]
  },
  {
   "cell_type": "code",
   "execution_count": 114,
   "id": "c4fe476e-cfbd-4c22-9b09-56dfd4ec51bc",
   "metadata": {},
   "outputs": [],
   "source": [
    "month  =time.month"
   ]
  },
  {
   "cell_type": "code",
   "execution_count": 113,
   "id": "8ee9202a-4533-452d-b3e2-ecf999c044a7",
   "metadata": {},
   "outputs": [],
   "source": [
    "year  = time.year"
   ]
  },
  {
   "cell_type": "raw",
   "id": "79ecb8d9-3e7e-49d4-8801-8ff5ca1a001c",
   "metadata": {},
   "source": []
  },
  {
   "cell_type": "code",
   "execution_count": 116,
   "id": "faaebd64-4217-4d4c-9458-6a73c576b87c",
   "metadata": {},
   "outputs": [
    {
     "name": "stdout",
     "output_type": "stream",
     "text": [
      "current month 10\n"
     ]
    }
   ],
   "source": [
    "print(\"current month\" , month) "
   ]
  },
  {
   "cell_type": "code",
   "execution_count": 117,
   "id": "0e7e0dc9-c5e5-4039-b7af-e7377a8da003",
   "metadata": {},
   "outputs": [
    {
     "name": "stdout",
     "output_type": "stream",
     "text": [
      "current month 2023\n"
     ]
    }
   ],
   "source": [
    "print(\"current month\" , year) "
   ]
  },
  {
   "cell_type": "code",
   "execution_count": 118,
   "id": "7ed0b13e-abce-4215-b228-a63df91a2976",
   "metadata": {},
   "outputs": [],
   "source": [
    "#Q8. Write a Python program that takes in two dates as input (in the format YYYY-MM-DD) and\n",
    "#calculates the difference between them in days, hours, and minutes using Pandas time delta. The\n",
    "#program should prompt the user to enter the dates and display the result."
   ]
  },
  {
   "cell_type": "code",
   "execution_count": null,
   "id": "c9ec9032-ac2b-4377-9270-0f9ae639b4cf",
   "metadata": {},
   "outputs": [],
   "source": []
  },
  {
   "cell_type": "code",
   "execution_count": 119,
   "id": "9f7a3369-f7b7-4424-9000-4298bb53f544",
   "metadata": {},
   "outputs": [],
   "source": [
    "import pandas as pd"
   ]
  },
  {
   "cell_type": "code",
   "execution_count": 127,
   "id": "e7f40cb0-d7bd-4ea9-b9e1-06f906537108",
   "metadata": {},
   "outputs": [
    {
     "name": "stdin",
     "output_type": "stream",
     "text": [
      "Enter Start date (YYYY-MM-DD):  2020-1-22\n"
     ]
    }
   ],
   "source": [
    "dt_1 = input(\"Enter Start date (YYYY-MM-DD): \" )"
   ]
  },
  {
   "cell_type": "code",
   "execution_count": 126,
   "id": "1d0ecaf9-66aa-4444-b596-de4eb430e4db",
   "metadata": {},
   "outputs": [
    {
     "name": "stdin",
     "output_type": "stream",
     "text": [
      "Enter End date : YYYY-MM-DD :  2020-10-22\n"
     ]
    }
   ],
   "source": [
    "dt_2 = input(\"Enter End date : YYYY-MM-DD : \" )"
   ]
  },
  {
   "cell_type": "code",
   "execution_count": 128,
   "id": "7e0bcf50-76e3-4094-ae3a-ed6bdea3bb2a",
   "metadata": {},
   "outputs": [],
   "source": [
    "date1 = pd.to_datetime(dt_1)"
   ]
  },
  {
   "cell_type": "code",
   "execution_count": 129,
   "id": "1b44cca0-6867-4dbe-97a2-9e0a9516b982",
   "metadata": {},
   "outputs": [],
   "source": [
    "date2 = pd.to_datetime(dt_2)"
   ]
  },
  {
   "cell_type": "code",
   "execution_count": 130,
   "id": "6b144f96-be64-46d0-9c68-dbe5830aa872",
   "metadata": {},
   "outputs": [],
   "source": [
    "differance = date2 - date1"
   ]
  },
  {
   "cell_type": "code",
   "execution_count": 132,
   "id": "7f0b5bad-0bbc-4a9d-9776-2657c077f8f1",
   "metadata": {},
   "outputs": [
    {
     "data": {
      "text/plain": [
       "274"
      ]
     },
     "execution_count": 132,
     "metadata": {},
     "output_type": "execute_result"
    }
   ],
   "source": [
    "differance.days"
   ]
  },
  {
   "cell_type": "code",
   "execution_count": 138,
   "id": "db54939e-1026-48ae-bc35-ed095ba7fb17",
   "metadata": {},
   "outputs": [],
   "source": [
    "hours =divmod(differance.days,3600)\n"
   ]
  },
  {
   "cell_type": "code",
   "execution_count": 144,
   "id": "810ee6fb-2131-43a4-b335-2acbd4f37400",
   "metadata": {},
   "outputs": [
    {
     "data": {
      "text/plain": [
       "(0, 274)"
      ]
     },
     "execution_count": 144,
     "metadata": {},
     "output_type": "execute_result"
    }
   ],
   "source": [
    "hours"
   ]
  },
  {
   "cell_type": "code",
   "execution_count": 139,
   "id": "6b38dd13-3a78-4dc1-b416-4b3d0b2b6ffc",
   "metadata": {},
   "outputs": [],
   "source": [
    "minutes = divmod(differance.days,60)"
   ]
  },
  {
   "cell_type": "code",
   "execution_count": 140,
   "id": "1e720081-e5c9-465a-b0da-b734e34df8fe",
   "metadata": {},
   "outputs": [
    {
     "data": {
      "text/plain": [
       "(4, 34)"
      ]
     },
     "execution_count": 140,
     "metadata": {},
     "output_type": "execute_result"
    }
   ],
   "source": [
    "minutes"
   ]
  },
  {
   "cell_type": "code",
   "execution_count": null,
   "id": "12a7ea3f-a0c7-4407-8736-2b41792b81de",
   "metadata": {},
   "outputs": [],
   "source": []
  },
  {
   "cell_type": "code",
   "execution_count": 146,
   "id": "f77f1a00-a843-43bc-89a2-96df48eeb4a6",
   "metadata": {},
   "outputs": [
    {
     "name": "stdout",
     "output_type": "stream",
     "text": [
      "Time Differance\n",
      "Days : 274 days 00:00:00days\n",
      "hours : (0, 274)hours\n",
      "min : (4, 34)hours\n"
     ]
    }
   ],
   "source": [
    "print(\"Time Differance\")\n",
    "print(f\"Days : {differance}days\")\n",
    "print(f\"hours : {hours}hours\")\n",
    "print(f\"min : {minutes}hours\")"
   ]
  },
  {
   "cell_type": "code",
   "execution_count": null,
   "id": "cd46e400-e398-4266-99b3-ba2bc83560d4",
   "metadata": {},
   "outputs": [],
   "source": []
  },
  {
   "cell_type": "code",
   "execution_count": 164,
   "id": "4b1ce53a-85fa-40a6-99c4-d5f37745af9f",
   "metadata": {},
   "outputs": [
    {
     "name": "stdin",
     "output_type": "stream",
     "text": [
      "Enter the file path of the CSV file:  taxonomy.csv\n",
      "Enter the column name to convert to categorical:  parent_id\n",
      "Enter the category order (comma-separated values):  101\n"
     ]
    },
    {
     "name": "stdout",
     "output_type": "stream",
     "text": [
      "Sorted Data:\n",
      "    taxonomy_id                          name parent_id           parent_name\n",
      "1        101-01             Disaster Response       101             Emergency\n",
      "2        101-02                Emergency Cash       101             Emergency\n",
      "9        101-03                Emergency Food       101             Emergency\n",
      "10       101-04             Emergency Shelter       101             Emergency\n",
      "11       101-05     Help Find Missing Persons       101             Emergency\n",
      "..          ...                           ...       ...                   ...\n",
      "285   111-01-07              Workplace Rights       NaN  Advocacy & Legal Aid\n",
      "286      111-02                     Mediation       NaN                 Legal\n",
      "287      111-03                        Notary       NaN                 Legal\n",
      "288      111-04                Representation       NaN                 Legal\n",
      "289      111-05  Translation & Interpretation       NaN                 Legal\n",
      "\n",
      "[290 rows x 4 columns]\n"
     ]
    }
   ],
   "source": []
  },
  {
   "cell_type": "code",
   "execution_count": 150,
   "id": "0dc4c183-51e7-4a37-ae08-90cd203075dd",
   "metadata": {},
   "outputs": [],
   "source": [
    "#Q9. Write a Python program that reads a CSV file containing categorical data and converts a specified\n",
    "#column to a categorical data type. The program should prompt the user to enter the file path, column\n",
    "#name, and category order, and then display the sorted data."
   ]
  },
  {
   "cell_type": "code",
   "execution_count": 166,
   "id": "340cc20e-38e6-4b3e-a918-c80b676660e2",
   "metadata": {},
   "outputs": [
    {
     "name": "stdin",
     "output_type": "stream",
     "text": [
      "Enter the file path :  taxonomy.csv\n",
      "Enter the column name to covert to categorical :  name\n",
      "Enter the category order (comma-separated values):  Emergency\n"
     ]
    },
    {
     "data": {
      "text/html": [
       "<div>\n",
       "<style scoped>\n",
       "    .dataframe tbody tr th:only-of-type {\n",
       "        vertical-align: middle;\n",
       "    }\n",
       "\n",
       "    .dataframe tbody tr th {\n",
       "        vertical-align: top;\n",
       "    }\n",
       "\n",
       "    .dataframe thead th {\n",
       "        text-align: right;\n",
       "    }\n",
       "</style>\n",
       "<table border=\"1\" class=\"dataframe\">\n",
       "  <thead>\n",
       "    <tr style=\"text-align: right;\">\n",
       "      <th></th>\n",
       "      <th>taxonomy_id</th>\n",
       "      <th>name</th>\n",
       "      <th>parent_id</th>\n",
       "      <th>parent_name</th>\n",
       "    </tr>\n",
       "  </thead>\n",
       "  <tbody>\n",
       "    <tr>\n",
       "      <th>0</th>\n",
       "      <td>101</td>\n",
       "      <td>NaN</td>\n",
       "      <td>NaN</td>\n",
       "      <td>NaN</td>\n",
       "    </tr>\n",
       "    <tr>\n",
       "      <th>1</th>\n",
       "      <td>101-01</td>\n",
       "      <td>NaN</td>\n",
       "      <td>101</td>\n",
       "      <td>Emergency</td>\n",
       "    </tr>\n",
       "    <tr>\n",
       "      <th>2</th>\n",
       "      <td>101-02</td>\n",
       "      <td>NaN</td>\n",
       "      <td>101</td>\n",
       "      <td>Emergency</td>\n",
       "    </tr>\n",
       "    <tr>\n",
       "      <th>3</th>\n",
       "      <td>101-02-01</td>\n",
       "      <td>NaN</td>\n",
       "      <td>101-02</td>\n",
       "      <td>Emergency Cash</td>\n",
       "    </tr>\n",
       "    <tr>\n",
       "      <th>4</th>\n",
       "      <td>101-02-02</td>\n",
       "      <td>NaN</td>\n",
       "      <td>101-02</td>\n",
       "      <td>Emergency Cash</td>\n",
       "    </tr>\n",
       "    <tr>\n",
       "      <th>...</th>\n",
       "      <td>...</td>\n",
       "      <td>...</td>\n",
       "      <td>...</td>\n",
       "      <td>...</td>\n",
       "    </tr>\n",
       "    <tr>\n",
       "      <th>285</th>\n",
       "      <td>111-01-07</td>\n",
       "      <td>NaN</td>\n",
       "      <td>111-01</td>\n",
       "      <td>Advocacy &amp; Legal Aid</td>\n",
       "    </tr>\n",
       "    <tr>\n",
       "      <th>286</th>\n",
       "      <td>111-02</td>\n",
       "      <td>NaN</td>\n",
       "      <td>111</td>\n",
       "      <td>Legal</td>\n",
       "    </tr>\n",
       "    <tr>\n",
       "      <th>287</th>\n",
       "      <td>111-03</td>\n",
       "      <td>NaN</td>\n",
       "      <td>111</td>\n",
       "      <td>Legal</td>\n",
       "    </tr>\n",
       "    <tr>\n",
       "      <th>288</th>\n",
       "      <td>111-04</td>\n",
       "      <td>NaN</td>\n",
       "      <td>111</td>\n",
       "      <td>Legal</td>\n",
       "    </tr>\n",
       "    <tr>\n",
       "      <th>289</th>\n",
       "      <td>111-05</td>\n",
       "      <td>NaN</td>\n",
       "      <td>111</td>\n",
       "      <td>Legal</td>\n",
       "    </tr>\n",
       "  </tbody>\n",
       "</table>\n",
       "<p>290 rows × 4 columns</p>\n",
       "</div>"
      ],
      "text/plain": [
       "    taxonomy_id name parent_id           parent_name\n",
       "0           101  NaN       NaN                   NaN\n",
       "1        101-01  NaN       101             Emergency\n",
       "2        101-02  NaN       101             Emergency\n",
       "3     101-02-01  NaN    101-02        Emergency Cash\n",
       "4     101-02-02  NaN    101-02        Emergency Cash\n",
       "..          ...  ...       ...                   ...\n",
       "285   111-01-07  NaN    111-01  Advocacy & Legal Aid\n",
       "286      111-02  NaN       111                 Legal\n",
       "287      111-03  NaN       111                 Legal\n",
       "288      111-04  NaN       111                 Legal\n",
       "289      111-05  NaN       111                 Legal\n",
       "\n",
       "[290 rows x 4 columns]"
      ]
     },
     "execution_count": 166,
     "metadata": {},
     "output_type": "execute_result"
    }
   ],
   "source": [
    "import pandas as pd\n",
    "\n",
    "\n",
    "file = input(\"Enter the file path : \")\n",
    "\n",
    "try:\n",
    "\tdf = pd.read_csv(file)\n",
    "except Exception as f:\n",
    "    print(f)\n",
    "    exit()\n",
    "    \n",
    "\n",
    "\n",
    "\n",
    "\n",
    "column_name = input(\"Enter the column name to covert to categorical : \")\n",
    "\n",
    "\n",
    "if column_name not in df.columns:\n",
    "    print(f\"Column {column_name} is not found in the csv file\")\n",
    "    \n",
    "\n",
    "category_order = input(\"Enter the category order (comma-separated values): \").split(',')\n",
    "\n",
    "\n",
    "\n",
    "df[column_name] = pd.Categorical(df[column_name] , categories=category , ordered=True)\n",
    "\n",
    "\n",
    "\n",
    "df = df.sort_values(by=column_name)\n",
    "\n",
    "\n",
    "df"
   ]
  },
  {
   "cell_type": "code",
   "execution_count": null,
   "id": "8649912a-dcb6-438b-b22a-630d3eeaf4d9",
   "metadata": {},
   "outputs": [],
   "source": []
  },
  {
   "cell_type": "code",
   "execution_count": null,
   "id": "afdf9a07-6a12-41a8-a599-5d38b2aaff2d",
   "metadata": {},
   "outputs": [],
   "source": []
  },
  {
   "cell_type": "code",
   "execution_count": null,
   "id": "495f182b-adf7-43dc-b110-9a6486bc8017",
   "metadata": {},
   "outputs": [],
   "source": []
  },
  {
   "cell_type": "code",
   "execution_count": 24,
   "id": "3de12fb8-7245-45f7-8def-b2573ef6b85e",
   "metadata": {},
   "outputs": [
    {
     "name": "stdin",
     "output_type": "stream",
     "text": [
      "Enter the file path of the CSV file:  rrr\n"
     ]
    },
    {
     "name": "stdout",
     "output_type": "stream",
     "text": [
      "File not found. Please check the file path.\n"
     ]
    },
    {
     "name": "stdin",
     "output_type": "stream",
     "text": [
      "Enter the name of the time column (e.g., 'Date'):  rr\n",
      "Enter the name of the category column (e.g., 'Category'):  rr\n"
     ]
    },
    {
     "ename": "KeyError",
     "evalue": "'rr'",
     "output_type": "error",
     "traceback": [
      "\u001b[0;31m---------------------------------------------------------------------------\u001b[0m",
      "\u001b[0;31mKeyError\u001b[0m                                  Traceback (most recent call last)",
      "File \u001b[0;32m/opt/conda/lib/python3.10/site-packages/pandas/core/indexes/base.py:3803\u001b[0m, in \u001b[0;36mIndex.get_loc\u001b[0;34m(self, key, method, tolerance)\u001b[0m\n\u001b[1;32m   3802\u001b[0m \u001b[38;5;28;01mtry\u001b[39;00m:\n\u001b[0;32m-> 3803\u001b[0m     \u001b[38;5;28;01mreturn\u001b[39;00m \u001b[38;5;28;43mself\u001b[39;49m\u001b[38;5;241;43m.\u001b[39;49m\u001b[43m_engine\u001b[49m\u001b[38;5;241;43m.\u001b[39;49m\u001b[43mget_loc\u001b[49m\u001b[43m(\u001b[49m\u001b[43mcasted_key\u001b[49m\u001b[43m)\u001b[49m\n\u001b[1;32m   3804\u001b[0m \u001b[38;5;28;01mexcept\u001b[39;00m \u001b[38;5;167;01mKeyError\u001b[39;00m \u001b[38;5;28;01mas\u001b[39;00m err:\n",
      "File \u001b[0;32m/opt/conda/lib/python3.10/site-packages/pandas/_libs/index.pyx:138\u001b[0m, in \u001b[0;36mpandas._libs.index.IndexEngine.get_loc\u001b[0;34m()\u001b[0m\n",
      "File \u001b[0;32m/opt/conda/lib/python3.10/site-packages/pandas/_libs/index.pyx:165\u001b[0m, in \u001b[0;36mpandas._libs.index.IndexEngine.get_loc\u001b[0;34m()\u001b[0m\n",
      "File \u001b[0;32mpandas/_libs/hashtable_class_helper.pxi:5745\u001b[0m, in \u001b[0;36mpandas._libs.hashtable.PyObjectHashTable.get_item\u001b[0;34m()\u001b[0m\n",
      "File \u001b[0;32mpandas/_libs/hashtable_class_helper.pxi:5753\u001b[0m, in \u001b[0;36mpandas._libs.hashtable.PyObjectHashTable.get_item\u001b[0;34m()\u001b[0m\n",
      "\u001b[0;31mKeyError\u001b[0m: 'rr'",
      "\nThe above exception was the direct cause of the following exception:\n",
      "\u001b[0;31mKeyError\u001b[0m                                  Traceback (most recent call last)",
      "Cell \u001b[0;32mIn[24], line 21\u001b[0m\n\u001b[1;32m     18\u001b[0m category_column \u001b[38;5;241m=\u001b[39m \u001b[38;5;28minput\u001b[39m(\u001b[38;5;124m\"\u001b[39m\u001b[38;5;124mEnter the name of the category column (e.g., \u001b[39m\u001b[38;5;124m'\u001b[39m\u001b[38;5;124mCategory\u001b[39m\u001b[38;5;124m'\u001b[39m\u001b[38;5;124m): \u001b[39m\u001b[38;5;124m\"\u001b[39m)\n\u001b[1;32m     20\u001b[0m \u001b[38;5;66;03m# Create a stacked bar chart\u001b[39;00m\n\u001b[0;32m---> 21\u001b[0m pivot_df \u001b[38;5;241m=\u001b[39m \u001b[43mdf\u001b[49m\u001b[38;5;241;43m.\u001b[39;49m\u001b[43mpivot\u001b[49m\u001b[43m(\u001b[49m\u001b[43mindex\u001b[49m\u001b[38;5;241;43m=\u001b[39;49m\u001b[43mtime_column\u001b[49m\u001b[43m,\u001b[49m\u001b[43m \u001b[49m\u001b[43mcolumns\u001b[49m\u001b[38;5;241;43m=\u001b[39;49m\u001b[43mcategory_column\u001b[49m\u001b[43m,\u001b[49m\u001b[43m \u001b[49m\u001b[43mvalues\u001b[49m\u001b[38;5;241;43m=\u001b[39;49m\u001b[38;5;124;43m'\u001b[39;49m\u001b[38;5;124;43mSales\u001b[39;49m\u001b[38;5;124;43m'\u001b[39;49m\u001b[43m)\u001b[49m\n\u001b[1;32m     22\u001b[0m pivot_df\u001b[38;5;241m.\u001b[39mplot(kind\u001b[38;5;241m=\u001b[39m\u001b[38;5;124m'\u001b[39m\u001b[38;5;124mbar\u001b[39m\u001b[38;5;124m'\u001b[39m, stacked\u001b[38;5;241m=\u001b[39m\u001b[38;5;28;01mTrue\u001b[39;00m, figsize\u001b[38;5;241m=\u001b[39m(\u001b[38;5;241m10\u001b[39m, \u001b[38;5;241m6\u001b[39m))\n\u001b[1;32m     24\u001b[0m \u001b[38;5;66;03m# Customize the chart\u001b[39;00m\n",
      "File \u001b[0;32m/opt/conda/lib/python3.10/site-packages/pandas/util/_decorators.py:331\u001b[0m, in \u001b[0;36mdeprecate_nonkeyword_arguments.<locals>.decorate.<locals>.wrapper\u001b[0;34m(*args, **kwargs)\u001b[0m\n\u001b[1;32m    325\u001b[0m \u001b[38;5;28;01mif\u001b[39;00m \u001b[38;5;28mlen\u001b[39m(args) \u001b[38;5;241m>\u001b[39m num_allow_args:\n\u001b[1;32m    326\u001b[0m     warnings\u001b[38;5;241m.\u001b[39mwarn(\n\u001b[1;32m    327\u001b[0m         msg\u001b[38;5;241m.\u001b[39mformat(arguments\u001b[38;5;241m=\u001b[39m_format_argument_list(allow_args)),\n\u001b[1;32m    328\u001b[0m         \u001b[38;5;167;01mFutureWarning\u001b[39;00m,\n\u001b[1;32m    329\u001b[0m         stacklevel\u001b[38;5;241m=\u001b[39mfind_stack_level(),\n\u001b[1;32m    330\u001b[0m     )\n\u001b[0;32m--> 331\u001b[0m \u001b[38;5;28;01mreturn\u001b[39;00m \u001b[43mfunc\u001b[49m\u001b[43m(\u001b[49m\u001b[38;5;241;43m*\u001b[39;49m\u001b[43margs\u001b[49m\u001b[43m,\u001b[49m\u001b[43m \u001b[49m\u001b[38;5;241;43m*\u001b[39;49m\u001b[38;5;241;43m*\u001b[39;49m\u001b[43mkwargs\u001b[49m\u001b[43m)\u001b[49m\n",
      "File \u001b[0;32m/opt/conda/lib/python3.10/site-packages/pandas/core/frame.py:8564\u001b[0m, in \u001b[0;36mDataFrame.pivot\u001b[0;34m(self, index, columns, values)\u001b[0m\n\u001b[1;32m   8558\u001b[0m \u001b[38;5;129m@Substitution\u001b[39m(\u001b[38;5;124m\"\u001b[39m\u001b[38;5;124m\"\u001b[39m)\n\u001b[1;32m   8559\u001b[0m \u001b[38;5;129m@Appender\u001b[39m(_shared_docs[\u001b[38;5;124m\"\u001b[39m\u001b[38;5;124mpivot\u001b[39m\u001b[38;5;124m\"\u001b[39m])\n\u001b[1;32m   8560\u001b[0m \u001b[38;5;129m@deprecate_nonkeyword_arguments\u001b[39m(version\u001b[38;5;241m=\u001b[39m\u001b[38;5;28;01mNone\u001b[39;00m, allowed_args\u001b[38;5;241m=\u001b[39m[\u001b[38;5;124m\"\u001b[39m\u001b[38;5;124mself\u001b[39m\u001b[38;5;124m\"\u001b[39m])\n\u001b[1;32m   8561\u001b[0m \u001b[38;5;28;01mdef\u001b[39;00m \u001b[38;5;21mpivot\u001b[39m(\u001b[38;5;28mself\u001b[39m, index\u001b[38;5;241m=\u001b[39m\u001b[38;5;28;01mNone\u001b[39;00m, columns\u001b[38;5;241m=\u001b[39m\u001b[38;5;28;01mNone\u001b[39;00m, values\u001b[38;5;241m=\u001b[39m\u001b[38;5;28;01mNone\u001b[39;00m) \u001b[38;5;241m-\u001b[39m\u001b[38;5;241m>\u001b[39m DataFrame:\n\u001b[1;32m   8562\u001b[0m     \u001b[38;5;28;01mfrom\u001b[39;00m \u001b[38;5;21;01mpandas\u001b[39;00m\u001b[38;5;21;01m.\u001b[39;00m\u001b[38;5;21;01mcore\u001b[39;00m\u001b[38;5;21;01m.\u001b[39;00m\u001b[38;5;21;01mreshape\u001b[39;00m\u001b[38;5;21;01m.\u001b[39;00m\u001b[38;5;21;01mpivot\u001b[39;00m \u001b[38;5;28;01mimport\u001b[39;00m pivot\n\u001b[0;32m-> 8564\u001b[0m     \u001b[38;5;28;01mreturn\u001b[39;00m \u001b[43mpivot\u001b[49m\u001b[43m(\u001b[49m\u001b[38;5;28;43mself\u001b[39;49m\u001b[43m,\u001b[49m\u001b[43m \u001b[49m\u001b[43mindex\u001b[49m\u001b[38;5;241;43m=\u001b[39;49m\u001b[43mindex\u001b[49m\u001b[43m,\u001b[49m\u001b[43m \u001b[49m\u001b[43mcolumns\u001b[49m\u001b[38;5;241;43m=\u001b[39;49m\u001b[43mcolumns\u001b[49m\u001b[43m,\u001b[49m\u001b[43m \u001b[49m\u001b[43mvalues\u001b[49m\u001b[38;5;241;43m=\u001b[39;49m\u001b[43mvalues\u001b[49m\u001b[43m)\u001b[49m\n",
      "File \u001b[0;32m/opt/conda/lib/python3.10/site-packages/pandas/util/_decorators.py:331\u001b[0m, in \u001b[0;36mdeprecate_nonkeyword_arguments.<locals>.decorate.<locals>.wrapper\u001b[0;34m(*args, **kwargs)\u001b[0m\n\u001b[1;32m    325\u001b[0m \u001b[38;5;28;01mif\u001b[39;00m \u001b[38;5;28mlen\u001b[39m(args) \u001b[38;5;241m>\u001b[39m num_allow_args:\n\u001b[1;32m    326\u001b[0m     warnings\u001b[38;5;241m.\u001b[39mwarn(\n\u001b[1;32m    327\u001b[0m         msg\u001b[38;5;241m.\u001b[39mformat(arguments\u001b[38;5;241m=\u001b[39m_format_argument_list(allow_args)),\n\u001b[1;32m    328\u001b[0m         \u001b[38;5;167;01mFutureWarning\u001b[39;00m,\n\u001b[1;32m    329\u001b[0m         stacklevel\u001b[38;5;241m=\u001b[39mfind_stack_level(),\n\u001b[1;32m    330\u001b[0m     )\n\u001b[0;32m--> 331\u001b[0m \u001b[38;5;28;01mreturn\u001b[39;00m \u001b[43mfunc\u001b[49m\u001b[43m(\u001b[49m\u001b[38;5;241;43m*\u001b[39;49m\u001b[43margs\u001b[49m\u001b[43m,\u001b[49m\u001b[43m \u001b[49m\u001b[38;5;241;43m*\u001b[39;49m\u001b[38;5;241;43m*\u001b[39;49m\u001b[43mkwargs\u001b[49m\u001b[43m)\u001b[49m\n",
      "File \u001b[0;32m/opt/conda/lib/python3.10/site-packages/pandas/core/reshape/pivot.py:523\u001b[0m, in \u001b[0;36mpivot\u001b[0;34m(data, index, columns, values)\u001b[0m\n\u001b[1;32m    521\u001b[0m         index_list \u001b[38;5;241m=\u001b[39m [Series(data\u001b[38;5;241m.\u001b[39mindex, name\u001b[38;5;241m=\u001b[39mdata\u001b[38;5;241m.\u001b[39mindex\u001b[38;5;241m.\u001b[39mname)]\n\u001b[1;32m    522\u001b[0m \u001b[38;5;28;01melse\u001b[39;00m:\n\u001b[0;32m--> 523\u001b[0m     index_list \u001b[38;5;241m=\u001b[39m [data[idx] \u001b[38;5;28;01mfor\u001b[39;00m idx \u001b[38;5;129;01min\u001b[39;00m com\u001b[38;5;241m.\u001b[39mconvert_to_list_like(index)]\n\u001b[1;32m    525\u001b[0m data_columns \u001b[38;5;241m=\u001b[39m [data[col] \u001b[38;5;28;01mfor\u001b[39;00m col \u001b[38;5;129;01min\u001b[39;00m columns_listlike]\n\u001b[1;32m    526\u001b[0m index_list\u001b[38;5;241m.\u001b[39mextend(data_columns)\n",
      "File \u001b[0;32m/opt/conda/lib/python3.10/site-packages/pandas/core/reshape/pivot.py:523\u001b[0m, in \u001b[0;36m<listcomp>\u001b[0;34m(.0)\u001b[0m\n\u001b[1;32m    521\u001b[0m         index_list \u001b[38;5;241m=\u001b[39m [Series(data\u001b[38;5;241m.\u001b[39mindex, name\u001b[38;5;241m=\u001b[39mdata\u001b[38;5;241m.\u001b[39mindex\u001b[38;5;241m.\u001b[39mname)]\n\u001b[1;32m    522\u001b[0m \u001b[38;5;28;01melse\u001b[39;00m:\n\u001b[0;32m--> 523\u001b[0m     index_list \u001b[38;5;241m=\u001b[39m [\u001b[43mdata\u001b[49m\u001b[43m[\u001b[49m\u001b[43midx\u001b[49m\u001b[43m]\u001b[49m \u001b[38;5;28;01mfor\u001b[39;00m idx \u001b[38;5;129;01min\u001b[39;00m com\u001b[38;5;241m.\u001b[39mconvert_to_list_like(index)]\n\u001b[1;32m    525\u001b[0m data_columns \u001b[38;5;241m=\u001b[39m [data[col] \u001b[38;5;28;01mfor\u001b[39;00m col \u001b[38;5;129;01min\u001b[39;00m columns_listlike]\n\u001b[1;32m    526\u001b[0m index_list\u001b[38;5;241m.\u001b[39mextend(data_columns)\n",
      "File \u001b[0;32m/opt/conda/lib/python3.10/site-packages/pandas/core/frame.py:3805\u001b[0m, in \u001b[0;36mDataFrame.__getitem__\u001b[0;34m(self, key)\u001b[0m\n\u001b[1;32m   3803\u001b[0m \u001b[38;5;28;01mif\u001b[39;00m \u001b[38;5;28mself\u001b[39m\u001b[38;5;241m.\u001b[39mcolumns\u001b[38;5;241m.\u001b[39mnlevels \u001b[38;5;241m>\u001b[39m \u001b[38;5;241m1\u001b[39m:\n\u001b[1;32m   3804\u001b[0m     \u001b[38;5;28;01mreturn\u001b[39;00m \u001b[38;5;28mself\u001b[39m\u001b[38;5;241m.\u001b[39m_getitem_multilevel(key)\n\u001b[0;32m-> 3805\u001b[0m indexer \u001b[38;5;241m=\u001b[39m \u001b[38;5;28;43mself\u001b[39;49m\u001b[38;5;241;43m.\u001b[39;49m\u001b[43mcolumns\u001b[49m\u001b[38;5;241;43m.\u001b[39;49m\u001b[43mget_loc\u001b[49m\u001b[43m(\u001b[49m\u001b[43mkey\u001b[49m\u001b[43m)\u001b[49m\n\u001b[1;32m   3806\u001b[0m \u001b[38;5;28;01mif\u001b[39;00m is_integer(indexer):\n\u001b[1;32m   3807\u001b[0m     indexer \u001b[38;5;241m=\u001b[39m [indexer]\n",
      "File \u001b[0;32m/opt/conda/lib/python3.10/site-packages/pandas/core/indexes/base.py:3805\u001b[0m, in \u001b[0;36mIndex.get_loc\u001b[0;34m(self, key, method, tolerance)\u001b[0m\n\u001b[1;32m   3803\u001b[0m     \u001b[38;5;28;01mreturn\u001b[39;00m \u001b[38;5;28mself\u001b[39m\u001b[38;5;241m.\u001b[39m_engine\u001b[38;5;241m.\u001b[39mget_loc(casted_key)\n\u001b[1;32m   3804\u001b[0m \u001b[38;5;28;01mexcept\u001b[39;00m \u001b[38;5;167;01mKeyError\u001b[39;00m \u001b[38;5;28;01mas\u001b[39;00m err:\n\u001b[0;32m-> 3805\u001b[0m     \u001b[38;5;28;01mraise\u001b[39;00m \u001b[38;5;167;01mKeyError\u001b[39;00m(key) \u001b[38;5;28;01mfrom\u001b[39;00m \u001b[38;5;21;01merr\u001b[39;00m\n\u001b[1;32m   3806\u001b[0m \u001b[38;5;28;01mexcept\u001b[39;00m \u001b[38;5;167;01mTypeError\u001b[39;00m:\n\u001b[1;32m   3807\u001b[0m     \u001b[38;5;66;03m# If we have a listlike key, _check_indexing_error will raise\u001b[39;00m\n\u001b[1;32m   3808\u001b[0m     \u001b[38;5;66;03m#  InvalidIndexError. Otherwise we fall through and re-raise\u001b[39;00m\n\u001b[1;32m   3809\u001b[0m     \u001b[38;5;66;03m#  the TypeError.\u001b[39;00m\n\u001b[1;32m   3810\u001b[0m     \u001b[38;5;28mself\u001b[39m\u001b[38;5;241m.\u001b[39m_check_indexing_error(key)\n",
      "\u001b[0;31mKeyError\u001b[0m: 'rr'"
     ]
    }
   ],
   "source": [
    "import pandas as pd\n",
    "import matplotlib.pyplot as plt\n",
    "\n",
    "# Prompt the user for the file path\n",
    "file_path = input(\"Enter the file path of the CSV file: \")\n",
    "\n",
    "# Read the CSV file into a DataFrame\n",
    "try:\n",
    "    df = pd.read_csv(file_path)\n",
    "except FileNotFoundError:\n",
    "    print(\"File not found. Please check the file path.\")\n",
    "    exit()\n",
    "\n",
    "# Prompt the user to select a column for time (e.g., date or month)\n",
    "time_column = input(\"Enter the name of the time column (e.g., 'Date'): \")\n",
    "\n",
    "# Prompt the user to select a column for product categories\n",
    "category_column = input(\"Enter the name of the category column (e.g., 'Category'): \")\n",
    "\n",
    "# Create a stacked bar chart\n",
    "pivot_df = df.pivot(index=time_column, columns=category_column, values='Sales')\n",
    "pivot_df.plot(kind='bar', stacked=True, figsize=(10, 6))\n",
    "\n",
    "# Customize the chart\n",
    "plt.title(\"Sales by Product Category Over Time\")\n",
    "plt.xlabel(time_column)\n",
    "plt.ylabel(\"Sales\")\n",
    "plt.legend(title=category_column, loc='upper left', bbox_to_anchor=(1, 1))\n",
    "\n",
    "# Show the chart\n",
    "plt.show()\n"
   ]
  },
  {
   "cell_type": "code",
   "execution_count": null,
   "id": "96fbd021-8870-450d-be19-a69ad7da0a09",
   "metadata": {},
   "outputs": [],
   "source": []
  },
  {
   "cell_type": "code",
   "execution_count": 1,
   "id": "9775bda0-c03e-4f3c-bbf3-4a67b7503075",
   "metadata": {},
   "outputs": [],
   "source": [
    "#Q10. Write a Python program that reads a CSV file containing sales data for different products and\n",
    "#visualizes the data using a stacked bar chart to show the sales of each product category over time. The\n",
    "#program should prompt the user to enter the file path and display the chart."
   ]
  },
  {
   "cell_type": "code",
   "execution_count": 4,
   "id": "79cbcd44-361f-4ff4-ad76-b9cf46b444ab",
   "metadata": {},
   "outputs": [],
   "source": [
    "import pandas as pd"
   ]
  },
  {
   "cell_type": "code",
   "execution_count": 21,
   "id": "fab7831d-3352-4d95-a8fa-a3761a1fb74c",
   "metadata": {},
   "outputs": [
    {
     "name": "stdin",
     "output_type": "stream",
     "text": [
      "Enter File Path :  taxonomy.csv\n"
     ]
    },
    {
     "name": "stdout",
     "output_type": "stream",
     "text": [
      "['taxonomy_id', 'name', 'parent_id', 'parent_name']\n",
      "Categories (4, object): ['name', 'parent_id', 'parent_name', 'taxonomy_id']\n"
     ]
    }
   ],
   "source": [
    "\n",
    "\n",
    "\n",
    "\n",
    "file = input(\"Enter File Path : \")\n",
    "\n",
    "try:\n",
    "    df = pd.read_csv(file)\n",
    "except Exception as f : \n",
    "    print(f)\n",
    "    exit()\n",
    "    \n",
    "    \n",
    "    \n",
    "df = pd.Categorical(df)\n",
    "\n",
    "\n",
    "\n",
    "print(df)"
   ]
  },
  {
   "cell_type": "code",
   "execution_count": null,
   "id": "7ee90f51-0b0c-46ec-8b96-f502fc1a8efa",
   "metadata": {},
   "outputs": [],
   "source": [
    "\n"
   ]
  },
  {
   "cell_type": "code",
   "execution_count": null,
   "id": "eed9cca4-6375-4d8b-b7b8-7b5c7182c0d6",
   "metadata": {},
   "outputs": [],
   "source": [
    "#Q11. You are given a CSV file containing student data that includes the student ID and their test score. Write\n",
    "#a Python program that reads the CSV file, calculates the mean, median, and mode of the test scores, and\n",
    "#displays the results in a table."
   ]
  },
  {
   "cell_type": "code",
   "execution_count": 3,
   "id": "ca3d02f0-59df-45ba-aef8-8585994d4411",
   "metadata": {},
   "outputs": [],
   "source": [
    "import pandas as pd"
   ]
  },
  {
   "cell_type": "code",
   "execution_count": 4,
   "id": "8194b8a9-c940-49ab-b5d6-0837ffa11dca",
   "metadata": {},
   "outputs": [],
   "source": [
    "data = {\"St_id\" : [1,2,3,4,5,6,7,8,9,10] , \"st_score\" : [85,90,80,75,85,82,78,85,90,85]} "
   ]
  },
  {
   "cell_type": "code",
   "execution_count": 5,
   "id": "410c0ffb-540f-458a-a14f-7b2df22ec741",
   "metadata": {},
   "outputs": [],
   "source": [
    "df = pd.DataFrame(data)"
   ]
  },
  {
   "cell_type": "code",
   "execution_count": 6,
   "id": "00c674ff-6ce5-4f4c-9557-741c6ddfb244",
   "metadata": {},
   "outputs": [],
   "source": [
    "df1 = pd.DataFrame({\"Static\" : [\"mean\" , \"median\" , \"Mode\"] })"
   ]
  },
  {
   "cell_type": "code",
   "execution_count": 15,
   "id": "ebd9574e-1ff6-4bfd-b139-c6965e40d619",
   "metadata": {},
   "outputs": [],
   "source": [
    "mean = df[\"st_score\"].mean()"
   ]
  },
  {
   "cell_type": "code",
   "execution_count": 13,
   "id": "b06136b7-78eb-44a0-8e2e-391159db40b6",
   "metadata": {},
   "outputs": [],
   "source": [
    "medi = df[\"st_score\"].median()"
   ]
  },
  {
   "cell_type": "code",
   "execution_count": 14,
   "id": "8908b185-2907-4033-a126-267f166b0478",
   "metadata": {},
   "outputs": [],
   "source": [
    "mode = df[\"st_score\"].mode()"
   ]
  },
  {
   "cell_type": "code",
   "execution_count": 17,
   "id": "d660ff45-ebfd-4986-ab19-56df1356453a",
   "metadata": {},
   "outputs": [],
   "source": [
    "df1[\"value\"] = [mean , medi , mode]"
   ]
  },
  {
   "cell_type": "code",
   "execution_count": 18,
   "id": "e2a457e6-eaa9-4a0c-9863-496171f804a6",
   "metadata": {},
   "outputs": [
    {
     "data": {
      "text/html": [
       "<div>\n",
       "<style scoped>\n",
       "    .dataframe tbody tr th:only-of-type {\n",
       "        vertical-align: middle;\n",
       "    }\n",
       "\n",
       "    .dataframe tbody tr th {\n",
       "        vertical-align: top;\n",
       "    }\n",
       "\n",
       "    .dataframe thead th {\n",
       "        text-align: right;\n",
       "    }\n",
       "</style>\n",
       "<table border=\"1\" class=\"dataframe\">\n",
       "  <thead>\n",
       "    <tr style=\"text-align: right;\">\n",
       "      <th></th>\n",
       "      <th>Static</th>\n",
       "      <th>value</th>\n",
       "    </tr>\n",
       "  </thead>\n",
       "  <tbody>\n",
       "    <tr>\n",
       "      <th>0</th>\n",
       "      <td>mean</td>\n",
       "      <td>83.5</td>\n",
       "    </tr>\n",
       "    <tr>\n",
       "      <th>1</th>\n",
       "      <td>median</td>\n",
       "      <td>85.0</td>\n",
       "    </tr>\n",
       "    <tr>\n",
       "      <th>2</th>\n",
       "      <td>Mode</td>\n",
       "      <td>0    85\n",
       "Name: st_score, dtype: int64</td>\n",
       "    </tr>\n",
       "  </tbody>\n",
       "</table>\n",
       "</div>"
      ],
      "text/plain": [
       "   Static                                 value\n",
       "0    mean                                  83.5\n",
       "1  median                                  85.0\n",
       "2    Mode  0    85\n",
       "Name: st_score, dtype: int64"
      ]
     },
     "execution_count": 18,
     "metadata": {},
     "output_type": "execute_result"
    }
   ],
   "source": [
    "df1"
   ]
  },
  {
   "cell_type": "code",
   "execution_count": null,
   "id": "72629444-ed3e-4239-97df-4c3dd3a73c71",
   "metadata": {},
   "outputs": [],
   "source": []
  }
 ],
 "metadata": {
  "kernelspec": {
   "display_name": "Python 3 (ipykernel)",
   "language": "python",
   "name": "python3"
  },
  "language_info": {
   "codemirror_mode": {
    "name": "ipython",
    "version": 3
   },
   "file_extension": ".py",
   "mimetype": "text/x-python",
   "name": "python",
   "nbconvert_exporter": "python",
   "pygments_lexer": "ipython3",
   "version": "3.10.8"
  }
 },
 "nbformat": 4,
 "nbformat_minor": 5
}
